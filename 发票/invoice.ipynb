{
 "cells": [
  {
   "cell_type": "code",
   "execution_count": 4,
   "outputs": [],
   "source": [
    "import xlrd\n",
    "import xlwt\n",
    "from xlutils.copy import copy\n",
    "sample_file = '发票模板.xls'\n",
    "invoice_name = 'GIL.xls'"
   ],
   "metadata": {
    "collapsed": false,
    "pycharm": {
     "name": "#%%\n"
    }
   }
  },
  {
   "cell_type": "code",
   "execution_count": 32,
   "outputs": [
    {
     "data": {
      "text/plain": "'1-7066622129'"
     },
     "execution_count": 32,
     "metadata": {},
     "output_type": "execute_result"
    }
   ],
   "source": [
    "data = xlrd.open_workbook(sample_file)\n",
    "table = data.sheets()[0]\n",
    "in_no = table.cell_value(2, 1)\n",
    "in_dt = table.cell_value(2, 8)\n",
    "in_cpy = table.cell_value(4, 6)\n",
    "in_add = table.cell_value(5, 6)\n",
    "in_post = table.cell_value(6, 6)\n",
    "in_cty = table.cell_value(7, 6)\n",
    "in_country = table.cell_value(8, 6)\n",
    "in_con = table.cell_value(10, 6)\n",
    "in_phno = table.cell_value(11, 6)"
   ],
   "metadata": {
    "collapsed": false,
    "pycharm": {
     "name": "#%%\n"
    }
   }
  },
  {
   "cell_type": "code",
   "execution_count": 105,
   "outputs": [],
   "source": [
    "import datetime\n",
    "\n",
    "\n",
    "import pandas as pd\n",
    "order_no = '111-5071452-2964207'\n",
    "data = pd.read_excel('客户跟进情况.xlsx',sheet_name='8月')\n",
    "# data['订单号'][0]\n",
    "data1=data[data['订单号']== order_no]\n",
    "\n",
    "name=data1['全名'].tolist()[0]\n",
    "in_add=data1['地址'].tolist()[0]\n",
    "in_cty=data1['城市'].tolist()[0]\n",
    "in_post=str(data1['邮编'].tolist()[0])\n",
    "in_phno=data1['电话'].tolist()[0]\n",
    "# in_country='United States'\n",
    "in_dt= datetime.date.today().strftime('%Y/%m/%d')\n",
    "\n",
    "\n"
   ],
   "metadata": {
    "collapsed": false,
    "pycharm": {
     "name": "#%%\n"
    }
   }
  },
  {
   "cell_type": "code",
   "execution_count": 107,
   "outputs": [],
   "source": [
    "invoice_no= order_no+'-LG'\n",
    "# width = 256 * 8\n",
    "font = xlwt.Font()\n",
    "font.height = 240  # 12号字体\n",
    "font.bold = False\n",
    "font.name = 'Arial'\n",
    "align = xlwt.Alignment()\n",
    "style = xlwt.XFStyle()\n",
    "style.font = font\n",
    "align.vert = 0\n",
    "style.alignment = align\n",
    "invoice =  invoice_no + '发票.xls'\n",
    "data = xlrd.open_workbook(sample_file,formatting_info=True)\n",
    "new_excel = copy(data)\n",
    "ws = new_excel.get_sheet(0)      # 获取第一个sheet\n",
    "# first_col = ws.col(0)            # 第一列\n",
    "# first_col.width=width            # 第一列宽\n",
    "ws.write(2, 1, invoice_no,style)\n",
    "ws.write(2,3,invoice_no,style)# B8(7,1)\n",
    "ws.write(4, 6, name,style)    # F9(8,5)\n",
    "ws.write(2, 8, in_dt,style)\n",
    "ws.write(10, 6, name,style)\n",
    "ws.write(5, 6, in_add,style)\n",
    "ws.write(7, 6, in_cty,style)\n",
    "ws.write(6, 6, in_post,style)\n",
    "ws.write(11, 6, in_phno,style)\n",
    "new_excel.save(invoice)"
   ],
   "metadata": {
    "collapsed": false,
    "pycharm": {
     "name": "#%%\n"
    }
   }
  }
 ],
 "metadata": {
  "kernelspec": {
   "display_name": "Python 3",
   "language": "python",
   "name": "python3"
  },
  "language_info": {
   "codemirror_mode": {
    "name": "ipython",
    "version": 2
   },
   "file_extension": ".py",
   "mimetype": "text/x-python",
   "name": "python",
   "nbconvert_exporter": "python",
   "pygments_lexer": "ipython2",
   "version": "2.7.6"
  }
 },
 "nbformat": 4,
 "nbformat_minor": 0
}