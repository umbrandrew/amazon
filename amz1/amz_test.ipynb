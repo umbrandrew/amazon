{
 "cells": [
  {
   "cell_type": "code",
   "execution_count": 67,
   "outputs": [],
   "source": [
    "from selenium import webdriver\n",
    "import time\n",
    "from selenium.webdriver.common.by import By\n",
    "from selenium.webdriver.common.action_chains import ActionChains\n",
    "from selenium.webdriver.common.keys import Keys\n",
    "import re\n",
    "driver = webdriver.Chrome()\n",
    "driver.get('https://www.amazon.com/dp/B09PV758HF?th=1')\n",
    "\n",
    "time.sleep(3)\n",
    "\n",
    "driver.find_element(By.ID, 'glow-ingress-line2').click()\n",
    "driver.implicitly_wait(5)\n",
    "\n",
    "driver.find_element(By.ID, \"GLUXZipUpdateInput\").click()\n",
    "driver.implicitly_wait(5)\n",
    "\n",
    "driver.find_element(By.ID, 'GLUXZipUpdateInput').send_keys('90005')\n",
    "driver.implicitly_wait(5)\n",
    "\n",
    "ActionChains(driver).send_keys(Keys.ENTER).perform()  # 直接输入回车\n",
    "driver.implicitly_wait(5)\n",
    "\n",
    "driver.refresh()\n",
    "time.sleep(3)\n",
    "\n"
   ],
   "metadata": {
    "collapsed": false,
    "pycharm": {
     "name": "#%%\n"
    }
   }
  },
  {
   "cell_type": "code",
   "execution_count": 68,
   "outputs": [],
   "source": [
    "def get_data(content):\n",
    "    try:\n",
    "        spec = re.findall( '''</label> <span class=\"selection\">(.*?)</span>''', content ,re.S)[0]\n",
    "    except:\n",
    "        spec = ''\n",
    "    try:\n",
    "        rank = re.findall( '</th> <td> <span> {2}<span>#(.*?) in ', content )[0]\n",
    "    except:\n",
    "        rank = ''\n",
    "    try:\n",
    "        calog = re.findall( '<span>#.*? in <a href=.*?>(.*?)</a>', content )[0]\n",
    "    except:\n",
    "        calog = ''\n",
    "    try:\n",
    "        seller = re.findall( '''<a href=\".*?\" id=\"sellerProfileTriggerId\">(.*?)</a>''', content )[0]\n",
    "    except:\n",
    "        seller = ''\n",
    "    try:\n",
    "        shipper = re.findall( '<span class=\"a-size-small\">(.*?)</span>', content )[0]\n",
    "        if shipper == 'Amazon':\n",
    "            shipper = 'FBA'\n",
    "        else:\n",
    "            shipper = 'FBM'\n",
    "    except:\n",
    "        shipper = ''\n",
    "    try:\n",
    "        stock =re.findall( 'a-size-medium a-color-price\"> {4}Only (.*?) left in stock - order soon. {3}</span>',content )[0]\n",
    "    except IndexError:\n",
    "        try:\n",
    "            stock = re.findall('<div id=\"availability\" class=\"a-section a-spacing-base }\"> {17}<span ''class=\"a-size-medium a-color-success\"> {4}(.*?) {3}</span>',content )[0]\n",
    "        except IndexError:\n",
    "            stock = '0'\n",
    "    try:\n",
    "        qa_count = re.findall('<a id=\"askATFLink\" class=\"a-link-normal askATFLink\" href=\"#Ask\"> <span class=\"a-size-base\"> (.*?) ''answered questions </span> </a> </span>',content )[0]\n",
    "    except:\n",
    "        qa_count = 0\n",
    "    try:\n",
    "        rate_count = re.findall( 'acrCustomerReviewText\" class=\"a-size-base\">(.*?) ratings<', content )[1]\n",
    "    except:\n",
    "        rate_count = 0\n",
    "    try:\n",
    "        rate_star =re.findall( 'eviewCountTextLinkedHistogram noUnderline\" title=\"(.*?) out of 5 stars\">', content )[1]\n",
    "    except:\n",
    "        rate_star = 0\n",
    "    try:\n",
    "        spec_opt = re.findall( '<li id=\"size_name_.*?data-defaultasin=\"(.*?)\" data-dp-url=\".*?\" class=\"swatchAvailable\">', content )\n",
    "    except:\n",
    "        spec_opt = ''\n",
    "    try:\n",
    "        up_data =re.findall('Date First Available </th> {2}<td class=\"a-size-base prodDetAttrValue\"> (.*?) </td> </tr>',content )[0]\n",
    "    except:\n",
    "        up_data = ''\n",
    "    try:\n",
    "        price = re.findall( 'a-offscreen\">(.*?)<', content )[0]\n",
    "    except:\n",
    "        price = ''\n",
    "    rq = time.strftime( \"%Y-%m-%d\", time.localtime() )\n",
    "    sj = time.strftime( \"%H:%M:%S\", time.localtime() )\n",
    "    return [rq, sj, spec, price, seller, shipper, stock, rank, calog, qa_count,rate_count,rate_star, spec_opt, up_data]\n"
   ],
   "metadata": {
    "collapsed": false,
    "pycharm": {
     "name": "#%%\n"
    }
   }
  },
  {
   "cell_type": "code",
   "execution_count": 69,
   "outputs": [
    {
     "name": "stdout",
     "output_type": "stream",
     "text": [
      "B09Z1YMKBD ['2022-07-27', '17:24:08', '39.4\"Glass+Flight Case', '$3,999.00', 'WAHER', 'FBA', '2', '561', 'Photographic Lighting Booms &amp; Stands', '28', '12', '4.4', ['B09Z2HC8Y6', 'B09N166GM8', 'B09V7Q3ZVF', 'B09N14N3W1', 'B09N157JW9', 'B09N16MDSD', 'B09N15GVVB'], 'April 28, 2022']\n",
      "B09P1GR6NK ['2022-07-27', '17:24:27', '31.5\"+Flight Case', '$2,499.00', 'HARZHI', 'FBA', '17', '552', 'Photographic Lighting Booms &amp; Stands', '17', '13', '4.3', ['B09P55216R', 'B09YTDQRNC', 'B09P1HR8X6', 'B09PBPD927', 'B09PBMNPKT'], 'December 24, 2021']\n",
      "B0B3RSZHGH ['2022-07-27', '17:24:46', '26.8\"(68cm)+Flight Case', '$2,199.00', 'YC technology', 'FBA', '1', '1,419', 'Photographic Lighting Booms &amp; Stands', '16', '18', '4.1', ['B09SV53Z57', 'B09SV5WFSW', 'B09SV5GYD4', 'B09SV57798', 'B09SV4F1CD', 'B09SV5GN77'], 'June 10, 2022']\n",
      "B0B2JS2D27 ['2022-07-27', '17:25:05', '115cm/45.2\"+ Flight Case', '$3,299.00', 'Zanogi-US', 'FBA', 'In Stock.', '1,418', 'Photographic Lighting Booms &amp; Stands', '5', 0, 0, ['B0B2JQVQ3G', 'B0B2JWLRY6'], 'May 28, 2022']\n",
      "B09YR3643S ['2022-07-27', '17:25:23', '26.8\"+Flight Case', '$2,199.00', 'MWE Tech', 'FBA', '2', '313', 'Photographic Lighting Booms &amp; Stands', '55', '41', '4.4', ['B09KRJV89C', 'B09KRL1DJR', 'B09M8BDXK9', 'B09PBH2HSB', 'B09PFVTTJP'], 'November 1, 2021']\n"
     ]
    }
   ],
   "source": [
    "sku_list=['B09Z1YMKBD','B09P1GR6NK','B0B3RSZHGH','B0B2JS2D27','B09YR3643S']\n",
    "for sku in sku_list:\n",
    "    driver.get('https://www.amazon.com/dp/{}?th=1'.format(sku))\n",
    "    time.sleep(5)\n",
    "    content = driver.page_source\n",
    "    s=get_data(content)\n",
    "    print(sku,s)\n",
    "    time.sleep(10)"
   ],
   "metadata": {
    "collapsed": false,
    "pycharm": {
     "name": "#%%\n"
    }
   }
  }
 ],
 "metadata": {
  "kernelspec": {
   "display_name": "Python 3",
   "language": "python",
   "name": "python3"
  },
  "language_info": {
   "codemirror_mode": {
    "name": "ipython",
    "version": 2
   },
   "file_extension": ".py",
   "mimetype": "text/x-python",
   "name": "python",
   "nbconvert_exporter": "python",
   "pygments_lexer": "ipython2",
   "version": "2.7.6"
  }
 },
 "nbformat": 4,
 "nbformat_minor": 0
}