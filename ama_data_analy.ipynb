{
 "cells": [
  {
   "cell_type": "code",
   "execution_count": 4,
   "id": "4692bb16",
   "metadata": {
    "pycharm": {
     "name": "#%%\n"
    }
   },
   "outputs": [],
   "source": [
    "import pandas as pd\n",
    "import datetime\n",
    "from datetime import timedelta,date\n",
    "data=pd.read_excel('amz_info.xlsx')\n",
    "sku_date=pd.read_excel('sku_list.xlsx')\n",
    "sku_list=sku_date['sku'].to_list()\n",
    "data['日期']=pd.to_datetime(data['日期'],format='%Y-%m-%d')\n",
    "\n",
    "data['排名']=data['排名'].str.replace(',','')\n",
    "data=data.fillna({'排名':9999})\n",
    "data['排名']=data['排名'].astype('int64')\n",
    "data['FBA库存数量']=data['FBA库存数量'].str.replace('>','')\n",
    "data['日期']=pd.to_datetime(data['日期'],format='%Y/%m%d')"
   ]
  },
  {
   "cell_type": "code",
   "execution_count": 5,
   "id": "87a0d2b7",
   "metadata": {
    "pycharm": {
     "name": "#%%\n"
    }
   },
   "outputs": [
    {
     "name": "stderr",
     "output_type": "stream",
     "text": [
      "C:\\Users\\Administrator\\AppData\\Local\\Temp\\ipykernel_10184\\412941470.py:12: SettingWithCopyWarning: \n",
      "A value is trying to be set on a copy of a slice from a DataFrame\n",
      "\n",
      "See the caveats in the documentation: https://pandas.pydata.org/pandas-docs/stable/user_guide/indexing.html#returning-a-view-versus-a-copy\n",
      "  data_1['近3日排名走势'].loc[sku]=sss\n"
     ]
    },
    {
     "data": {
      "text/plain": "           日期        时间             卖家         价格   发货    FBA库存数量  评论数   评分  \\\n1  2022-07-28  08:44:25       MWE Tech  $2,799.00  FBA  In Stock.   42  4.4   \n2  2022-07-28  08:25:53       MWE Tech  $2,199.00  FBA         16   42  4.4   \n3  2022-07-28  08:40:07   OLYLO Direct  $2,799.00  FBM         10   30  4.3   \n4  2022-07-28  08:43:33       MWE Tech  $3,299.00  FBA          6   42  4.4   \n5  2022-07-28  08:31:12        Looline  $2,380.00  FBA         13    9  3.8   \n6  2022-07-28  08:44:39  YC technology  $2,799.00  FBA         19   18  4.1   \n7  2022-07-28  08:24:43       MWE Tech  $2,380.00  FBA         11   42  4.4   \n8  2022-07-28  08:45:45   OLYLO Direct  $1,899.00  FBA          9   30  4.3   \n9  2022-07-28  08:26:58   OLYLO Direct  $2,380.00  FBA         14   30  4.3   \n10 2022-07-28  08:25:26     AchhaGo US  $2,199.00  FBA  In Stock.    7  4.1   \n11 2022-07-28  08:46:14   OLYLO Direct  $2,499.00  FBA         14   30  4.3   \n12 2022-07-28  08:35:31          WAHER  $2,380.00  FBA         13   12  4.4   \n13 2022-07-28  08:40:46  olylo Machine  $2,799.00  FBA          4    0  0.0   \n14 2022-07-28  08:27:38   OLYLO Direct  $3,299.00  FBA  In Stock.   30  4.3   \n15 2022-07-28  08:29:34         HARZHI  $2,799.00  FBA         19   13  4.3   \n16 2022-07-28  08:46:28  YC technology  $2,380.00  FBA          9   18  4.1   \n17 2022-07-28  08:42:00       MWE Tech  $2,199.00  FBA          1   42  4.4   \n18 2022-07-28  08:43:59       MWE Tech  $2,199.00  FBA          1   42  4.4   \n19 2022-07-28  08:43:46       MWE Tech  $2,199.00  FBA          1   42  4.4   \n20 2022-07-28  08:34:15         HARZHI  $3,299.00  FBA         12   13  4.3   \n21 2022-07-28  08:32:38      Zanogi-US  $2,799.00  FBA         17    0  0.0   \n22 2022-07-28  08:45:19      Zanogi-US  $2,799.00  FBA         17    0  0.0   \n23 2022-07-28  08:24:57       HERBSASY  $2,799.00  FBA          2    3  5.0   \n24 2022-07-28  08:35:45         HARZHI  $2,699.00  FBA          2   13  4.3   \n25 2022-07-28  08:39:50  YC technology  $2,499.00  FBA         17   18  4.1   \n26 2022-07-28  08:39:37          WAHER  $2,199.00  FBA  In Stock.   12  4.4   \n27 2022-07-28  08:40:20        Looline  $2,799.00  FBA         10    9  3.8   \n28 2022-07-28  08:34:52        RXF_USA  $2,199.00  FBA          7  133  4.3   \n29 2022-07-28  08:38:57  YC technology  $2,199.00  FBA          1    0  0.0   \n30 2022-07-28  08:40:33         HARZHI  $2,499.00  FBA         17   13  4.3   \n\n     排名                               近3日排名走势  \n1    57                 58→65→52→59→60→52→57→  \n2    90             93→97→102→105→113→128→90→  \n3   125               86→79→87→91→94→105→125→  \n4   144                          304→111→144→  \n5   159          240→248→254→263→270→294→159→  \n6   166          397→400→399→396→395→391→166→  \n7   172          182→192→191→188→138→151→172→  \n8   185          477→494→500→515→523→225→185→  \n9   198          155→157→158→161→161→181→198→  \n10  207      148→151→154→158→159→180→180→207→  \n11  219          215→227→235→246→251→166→219→  \n12  254          444→448→164→178→182→217→254→  \n13  257     1419→1419→1419→1418→1418→195→257→  \n14  258          167→124→182→190→196→223→258→  \n15  304          255→261→265→269→269→285→304→  \n16  316                          403→288→316→  \n17  344                          263→313→344→  \n18  344      259→270→275→278→291→313→313→344→  \n19  344          259→270→275→284→291→313→344→  \n20  391                          352→378→391→  \n21  405          310→321→326→343→353→376→405→  \n22  405              321→326→343→353→376→405→  \n23  421          365→380→383→387→389→402→421→  \n24  431                          351→395→431→  \n25  446                          376→424→446→  \n26  447                          310→445→447→  \n27  492              463→474→477→480→483→492→  \n28  508          280→293→311→337→347→418→508→  \n29  549          434→445→452→470→478→508→549→  \n30  559  549→552→553→555→554→552→552→552→559→  ",
      "text/html": "<div>\n<style scoped>\n    .dataframe tbody tr th:only-of-type {\n        vertical-align: middle;\n    }\n\n    .dataframe tbody tr th {\n        vertical-align: top;\n    }\n\n    .dataframe thead th {\n        text-align: right;\n    }\n</style>\n<table border=\"1\" class=\"dataframe\">\n  <thead>\n    <tr style=\"text-align: right;\">\n      <th></th>\n      <th>日期</th>\n      <th>时间</th>\n      <th>卖家</th>\n      <th>价格</th>\n      <th>发货</th>\n      <th>FBA库存数量</th>\n      <th>评论数</th>\n      <th>评分</th>\n      <th>排名</th>\n      <th>近3日排名走势</th>\n    </tr>\n  </thead>\n  <tbody>\n    <tr>\n      <th>1</th>\n      <td>2022-07-28</td>\n      <td>08:44:25</td>\n      <td>MWE Tech</td>\n      <td>$2,799.00</td>\n      <td>FBA</td>\n      <td>In Stock.</td>\n      <td>42</td>\n      <td>4.4</td>\n      <td>57</td>\n      <td>58→65→52→59→60→52→57→</td>\n    </tr>\n    <tr>\n      <th>2</th>\n      <td>2022-07-28</td>\n      <td>08:25:53</td>\n      <td>MWE Tech</td>\n      <td>$2,199.00</td>\n      <td>FBA</td>\n      <td>16</td>\n      <td>42</td>\n      <td>4.4</td>\n      <td>90</td>\n      <td>93→97→102→105→113→128→90→</td>\n    </tr>\n    <tr>\n      <th>3</th>\n      <td>2022-07-28</td>\n      <td>08:40:07</td>\n      <td>OLYLO Direct</td>\n      <td>$2,799.00</td>\n      <td>FBM</td>\n      <td>10</td>\n      <td>30</td>\n      <td>4.3</td>\n      <td>125</td>\n      <td>86→79→87→91→94→105→125→</td>\n    </tr>\n    <tr>\n      <th>4</th>\n      <td>2022-07-28</td>\n      <td>08:43:33</td>\n      <td>MWE Tech</td>\n      <td>$3,299.00</td>\n      <td>FBA</td>\n      <td>6</td>\n      <td>42</td>\n      <td>4.4</td>\n      <td>144</td>\n      <td>304→111→144→</td>\n    </tr>\n    <tr>\n      <th>5</th>\n      <td>2022-07-28</td>\n      <td>08:31:12</td>\n      <td>Looline</td>\n      <td>$2,380.00</td>\n      <td>FBA</td>\n      <td>13</td>\n      <td>9</td>\n      <td>3.8</td>\n      <td>159</td>\n      <td>240→248→254→263→270→294→159→</td>\n    </tr>\n    <tr>\n      <th>6</th>\n      <td>2022-07-28</td>\n      <td>08:44:39</td>\n      <td>YC technology</td>\n      <td>$2,799.00</td>\n      <td>FBA</td>\n      <td>19</td>\n      <td>18</td>\n      <td>4.1</td>\n      <td>166</td>\n      <td>397→400→399→396→395→391→166→</td>\n    </tr>\n    <tr>\n      <th>7</th>\n      <td>2022-07-28</td>\n      <td>08:24:43</td>\n      <td>MWE Tech</td>\n      <td>$2,380.00</td>\n      <td>FBA</td>\n      <td>11</td>\n      <td>42</td>\n      <td>4.4</td>\n      <td>172</td>\n      <td>182→192→191→188→138→151→172→</td>\n    </tr>\n    <tr>\n      <th>8</th>\n      <td>2022-07-28</td>\n      <td>08:45:45</td>\n      <td>OLYLO Direct</td>\n      <td>$1,899.00</td>\n      <td>FBA</td>\n      <td>9</td>\n      <td>30</td>\n      <td>4.3</td>\n      <td>185</td>\n      <td>477→494→500→515→523→225→185→</td>\n    </tr>\n    <tr>\n      <th>9</th>\n      <td>2022-07-28</td>\n      <td>08:26:58</td>\n      <td>OLYLO Direct</td>\n      <td>$2,380.00</td>\n      <td>FBA</td>\n      <td>14</td>\n      <td>30</td>\n      <td>4.3</td>\n      <td>198</td>\n      <td>155→157→158→161→161→181→198→</td>\n    </tr>\n    <tr>\n      <th>10</th>\n      <td>2022-07-28</td>\n      <td>08:25:26</td>\n      <td>AchhaGo US</td>\n      <td>$2,199.00</td>\n      <td>FBA</td>\n      <td>In Stock.</td>\n      <td>7</td>\n      <td>4.1</td>\n      <td>207</td>\n      <td>148→151→154→158→159→180→180→207→</td>\n    </tr>\n    <tr>\n      <th>11</th>\n      <td>2022-07-28</td>\n      <td>08:46:14</td>\n      <td>OLYLO Direct</td>\n      <td>$2,499.00</td>\n      <td>FBA</td>\n      <td>14</td>\n      <td>30</td>\n      <td>4.3</td>\n      <td>219</td>\n      <td>215→227→235→246→251→166→219→</td>\n    </tr>\n    <tr>\n      <th>12</th>\n      <td>2022-07-28</td>\n      <td>08:35:31</td>\n      <td>WAHER</td>\n      <td>$2,380.00</td>\n      <td>FBA</td>\n      <td>13</td>\n      <td>12</td>\n      <td>4.4</td>\n      <td>254</td>\n      <td>444→448→164→178→182→217→254→</td>\n    </tr>\n    <tr>\n      <th>13</th>\n      <td>2022-07-28</td>\n      <td>08:40:46</td>\n      <td>olylo Machine</td>\n      <td>$2,799.00</td>\n      <td>FBA</td>\n      <td>4</td>\n      <td>0</td>\n      <td>0.0</td>\n      <td>257</td>\n      <td>1419→1419→1419→1418→1418→195→257→</td>\n    </tr>\n    <tr>\n      <th>14</th>\n      <td>2022-07-28</td>\n      <td>08:27:38</td>\n      <td>OLYLO Direct</td>\n      <td>$3,299.00</td>\n      <td>FBA</td>\n      <td>In Stock.</td>\n      <td>30</td>\n      <td>4.3</td>\n      <td>258</td>\n      <td>167→124→182→190→196→223→258→</td>\n    </tr>\n    <tr>\n      <th>15</th>\n      <td>2022-07-28</td>\n      <td>08:29:34</td>\n      <td>HARZHI</td>\n      <td>$2,799.00</td>\n      <td>FBA</td>\n      <td>19</td>\n      <td>13</td>\n      <td>4.3</td>\n      <td>304</td>\n      <td>255→261→265→269→269→285→304→</td>\n    </tr>\n    <tr>\n      <th>16</th>\n      <td>2022-07-28</td>\n      <td>08:46:28</td>\n      <td>YC technology</td>\n      <td>$2,380.00</td>\n      <td>FBA</td>\n      <td>9</td>\n      <td>18</td>\n      <td>4.1</td>\n      <td>316</td>\n      <td>403→288→316→</td>\n    </tr>\n    <tr>\n      <th>17</th>\n      <td>2022-07-28</td>\n      <td>08:42:00</td>\n      <td>MWE Tech</td>\n      <td>$2,199.00</td>\n      <td>FBA</td>\n      <td>1</td>\n      <td>42</td>\n      <td>4.4</td>\n      <td>344</td>\n      <td>263→313→344→</td>\n    </tr>\n    <tr>\n      <th>18</th>\n      <td>2022-07-28</td>\n      <td>08:43:59</td>\n      <td>MWE Tech</td>\n      <td>$2,199.00</td>\n      <td>FBA</td>\n      <td>1</td>\n      <td>42</td>\n      <td>4.4</td>\n      <td>344</td>\n      <td>259→270→275→278→291→313→313→344→</td>\n    </tr>\n    <tr>\n      <th>19</th>\n      <td>2022-07-28</td>\n      <td>08:43:46</td>\n      <td>MWE Tech</td>\n      <td>$2,199.00</td>\n      <td>FBA</td>\n      <td>1</td>\n      <td>42</td>\n      <td>4.4</td>\n      <td>344</td>\n      <td>259→270→275→284→291→313→344→</td>\n    </tr>\n    <tr>\n      <th>20</th>\n      <td>2022-07-28</td>\n      <td>08:34:15</td>\n      <td>HARZHI</td>\n      <td>$3,299.00</td>\n      <td>FBA</td>\n      <td>12</td>\n      <td>13</td>\n      <td>4.3</td>\n      <td>391</td>\n      <td>352→378→391→</td>\n    </tr>\n    <tr>\n      <th>21</th>\n      <td>2022-07-28</td>\n      <td>08:32:38</td>\n      <td>Zanogi-US</td>\n      <td>$2,799.00</td>\n      <td>FBA</td>\n      <td>17</td>\n      <td>0</td>\n      <td>0.0</td>\n      <td>405</td>\n      <td>310→321→326→343→353→376→405→</td>\n    </tr>\n    <tr>\n      <th>22</th>\n      <td>2022-07-28</td>\n      <td>08:45:19</td>\n      <td>Zanogi-US</td>\n      <td>$2,799.00</td>\n      <td>FBA</td>\n      <td>17</td>\n      <td>0</td>\n      <td>0.0</td>\n      <td>405</td>\n      <td>321→326→343→353→376→405→</td>\n    </tr>\n    <tr>\n      <th>23</th>\n      <td>2022-07-28</td>\n      <td>08:24:57</td>\n      <td>HERBSASY</td>\n      <td>$2,799.00</td>\n      <td>FBA</td>\n      <td>2</td>\n      <td>3</td>\n      <td>5.0</td>\n      <td>421</td>\n      <td>365→380→383→387→389→402→421→</td>\n    </tr>\n    <tr>\n      <th>24</th>\n      <td>2022-07-28</td>\n      <td>08:35:45</td>\n      <td>HARZHI</td>\n      <td>$2,699.00</td>\n      <td>FBA</td>\n      <td>2</td>\n      <td>13</td>\n      <td>4.3</td>\n      <td>431</td>\n      <td>351→395→431→</td>\n    </tr>\n    <tr>\n      <th>25</th>\n      <td>2022-07-28</td>\n      <td>08:39:50</td>\n      <td>YC technology</td>\n      <td>$2,499.00</td>\n      <td>FBA</td>\n      <td>17</td>\n      <td>18</td>\n      <td>4.1</td>\n      <td>446</td>\n      <td>376→424→446→</td>\n    </tr>\n    <tr>\n      <th>26</th>\n      <td>2022-07-28</td>\n      <td>08:39:37</td>\n      <td>WAHER</td>\n      <td>$2,199.00</td>\n      <td>FBA</td>\n      <td>In Stock.</td>\n      <td>12</td>\n      <td>4.4</td>\n      <td>447</td>\n      <td>310→445→447→</td>\n    </tr>\n    <tr>\n      <th>27</th>\n      <td>2022-07-28</td>\n      <td>08:40:20</td>\n      <td>Looline</td>\n      <td>$2,799.00</td>\n      <td>FBA</td>\n      <td>10</td>\n      <td>9</td>\n      <td>3.8</td>\n      <td>492</td>\n      <td>463→474→477→480→483→492→</td>\n    </tr>\n    <tr>\n      <th>28</th>\n      <td>2022-07-28</td>\n      <td>08:34:52</td>\n      <td>RXF_USA</td>\n      <td>$2,199.00</td>\n      <td>FBA</td>\n      <td>7</td>\n      <td>133</td>\n      <td>4.3</td>\n      <td>508</td>\n      <td>280→293→311→337→347→418→508→</td>\n    </tr>\n    <tr>\n      <th>29</th>\n      <td>2022-07-28</td>\n      <td>08:38:57</td>\n      <td>YC technology</td>\n      <td>$2,199.00</td>\n      <td>FBA</td>\n      <td>1</td>\n      <td>0</td>\n      <td>0.0</td>\n      <td>549</td>\n      <td>434→445→452→470→478→508→549→</td>\n    </tr>\n    <tr>\n      <th>30</th>\n      <td>2022-07-28</td>\n      <td>08:40:33</td>\n      <td>HARZHI</td>\n      <td>$2,499.00</td>\n      <td>FBA</td>\n      <td>17</td>\n      <td>13</td>\n      <td>4.3</td>\n      <td>559</td>\n      <td>549→552→553→555→554→552→552→552→559→</td>\n    </tr>\n  </tbody>\n</table>\n</div>"
     },
     "execution_count": 5,
     "metadata": {},
     "output_type": "execute_result"
    }
   ],
   "source": [
    "\n",
    "n=2 #近N日的时间\n",
    "tm=(date.today()-timedelta(days=n)).strftime(\"%Y-%m-%d\")\n",
    "def rank_trend(sku):\n",
    "    data_2=data[(data['ASIN']==sku)]\n",
    "    data_2=data_2[data_2['日期']>=tm]\n",
    "    data_2=data_2.set_index('日期')\n",
    "    r_list=data_2['排名'].tolist()\n",
    "    sss=''\n",
    "    for r_v in r_list:\n",
    "        sss=sss+str(r_v)+'→'\n",
    "    \n",
    "    data_1['近3日排名走势'].loc[sku]=sss\n",
    "\n",
    "data7=data[(data['ASIN']=='B09M8BDXK9')]\n",
    "data7=data7[data7['日期']>=tm]\n",
    "s_list=data7['FBA库存数量'].tolist()\n",
    "ssss=''\n",
    "for s_v in s_list:\n",
    "    ssss=ssss+str(s_v)+'→'\n",
    "\n",
    "import time\n",
    "date_a=time.time()\n",
    "data3=data[(data['日期']=='2022-7-28')].groupby(by=['ASIN']).last()\n",
    "data4=data3.nsmallest(30,'排名') #前30名\n",
    "s_list=[data4['日期'],data4['时间'],data4['卖家'],data4['价格'],data4['发货'],data4['FBA库存数量'],data4['评论数'],data4['评分'],data4['排名']]\n",
    "data_1=pd.concat(s_list,axis=1)\n",
    "data_1['近3日排名走势']=''\n",
    "skus=data_1.index.tolist()\n",
    "for sku in skus:\n",
    "    rank_trend(sku)\n",
    "data_1.index=[(x+1) for x in range(30)]\n",
    "\n",
    "data_1\n",
    "\n",
    "\n",
    "\n"
   ]
  },
  {
   "cell_type": "code",
   "execution_count": 6,
   "outputs": [],
   "source": [
    "data_1.to_csv(f'{date_a} ranking.csv',encoding='utf_8_sig')"
   ],
   "metadata": {
    "collapsed": false,
    "pycharm": {
     "name": "#%%\n"
    }
   }
  },
  {
   "cell_type": "code",
   "execution_count": null,
   "id": "123e4704",
   "metadata": {
    "pycharm": {
     "name": "#%%\n"
    }
   },
   "outputs": [],
   "source": [
    "data_1['近3日排名走势']=''\n",
    "data_1['近3日排名走势'].loc[sku]=sss\n",
    "data_1\n"
   ]
  },
  {
   "cell_type": "code",
   "execution_count": null,
   "id": "54f3f954",
   "metadata": {
    "pycharm": {
     "name": "#%%\n"
    }
   },
   "outputs": [],
   "source": [
    "#MEW系主号小号当前最新类目排名情况\n",
    "data5=data[data['卖家'].isin(['MWE Tech','WAHER','YC technology'])].groupby(by=['ASIN']).last()\n",
    "data6=data5.nsmallest(30,'排名')\n",
    "data6"
   ]
  },
  {
   "cell_type": "code",
   "execution_count": null,
   "id": "a403c132",
   "metadata": {
    "scrolled": true,
    "pycharm": {
     "name": "#%%\n"
    }
   },
   "outputs": [],
   "source": [
    "#olylo当前最新类目排名前十\n",
    "data1=data[data['卖家']=='OLYLO Direct'].groupby(by=['ASIN']).last()\n",
    "data2=data1.nsmallest(10,'排名')\n",
    "data2"
   ]
  },
  {
   "cell_type": "code",
   "execution_count": null,
   "id": "57b2f527",
   "metadata": {
    "pycharm": {
     "name": "#%%\n"
    }
   },
   "outputs": [],
   "source": []
  }
 ],
 "metadata": {
  "kernelspec": {
   "display_name": "Python 3.9.10 64-bit",
   "language": "python",
   "name": "python3"
  },
  "language_info": {
   "codemirror_mode": {
    "name": "ipython",
    "version": 3
   },
   "file_extension": ".py",
   "mimetype": "text/x-python",
   "name": "python",
   "nbconvert_exporter": "python",
   "pygments_lexer": "ipython3",
   "version": "3.9.10"
  },
  "vscode": {
   "interpreter": {
    "hash": "6fff98fc3b3d81bd655c2cc48858186e4d9e2db7b515bf1c3221888f12a62f87"
   }
  }
 },
 "nbformat": 4,
 "nbformat_minor": 5
}